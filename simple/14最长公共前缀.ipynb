"""
### 14. 最长公共前缀

编写一个函数来查找字符串数组中的最长公共前缀。如果不存在公共前缀，返回空字符串 ""。

示例 1:

输入: ["flower","flow","flight"]
输出: "fl"

示例 2:

输入: ["dog","racecar","car"]
输出: ""
解释: 输入不存在公共前缀。


#### 我的解题思路
取出其中第一个字符串，然后将字符串中的每一个字母和剩余的字符串进行比较，如果都含有改字母，则添加到前缀字符串中，注意，本处使用的是异常捕获处理其中下标溢出问题，即当其中一个字符串被遍历完毕的时候，就通过异常来结束！

注意问题：
- 要包括列表中为空和列表只有一个字符串的情况
- 注意如何跳出多重循环的方法：https://blog.csdn.net/churximi/article/details/51043595
- 通过设置Flas的设置来处理循环中某一个语句短的执行
"""

class Solution:
    def longestCommonPrefix(self, strs):
        """strs:包含英文字符串的列表"""
        maxPublicStr = ""
        if len(strs) == 0:
            pass
        elif len(strs) == 1:
            maxPublicStr = strs[0]
        else:
            str0 = strs[0]
            strs.remove(str0)
            flag = 1
            for i in range(len(str0)):
                try:
                    if flag:
                        for s in strs:
                            if s[i] == str0[i]:
                                continue
                            else:
                                flag = 0
                                break
                        if flag == 1:
                            maxPublicStr += str0[i]
                except:
                    break
        return maxPublicStr
        
 
 
"""
#### 别人的方法
通过zip 和 set 函数取每一个单词的同一位置的字母，看是否相同解决（效率高）：
"""     

class Solution:
    def longestCommonPrefix(self, strs):
        res = ""
        for tmp in zip(*strs):
            tmp_set = set(tmp)
            if len(tmp_set) == 1:
                res += tmp[0]
            else:
                break
        return res
        
